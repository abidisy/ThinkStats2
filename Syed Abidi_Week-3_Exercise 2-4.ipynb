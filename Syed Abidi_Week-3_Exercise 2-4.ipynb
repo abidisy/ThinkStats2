{
 "cells": [
  {
   "cell_type": "markdown",
   "metadata": {
    "scrolled": false
   },
   "source": [
    "### Syed Abidi, DS-530, Pgae- 25, Exercise 2-4\n",
    "### Question: Using the variable totalwgt_lb, investigate whether first babies are lighter or heavier than others…\n",
    "\n"
   ]
  },
  {
   "cell_type": "code",
   "execution_count": 1,
   "metadata": {},
   "outputs": [],
   "source": [
    "from __future__ import print_function, division\n",
    "\n",
    "import numpy as np\n",
    "import sys\n",
    "\n",
    "import thinkplot\n",
    "import math\n",
    "import nsfg\n",
    "import thinkstats2\n",
    "\n"
   ]
  },
  {
   "cell_type": "code",
   "execution_count": 2,
   "metadata": {},
   "outputs": [],
   "source": [
    "#  Read and selected records for live births by applying the boolean funcion\n",
    "preg = nsfg.ReadFemPreg()\n",
    "live = preg[preg.outcome == 1]\n",
    "\n"
   ]
  },
  {
   "cell_type": "code",
   "execution_count": 3,
   "metadata": {},
   "outputs": [],
   "source": [
    "#  Compared the distribution of pregnancy lengths for first babies and others\n",
    "firsts = live[live.birthord == 1]\n",
    "others = live[live.birthord != 1]"
   ]
  },
  {
   "cell_type": "markdown",
   "metadata": {},
   "source": [
    "## Analysis to conclude if first babies are lighter or heavier than others."
   ]
  },
  {
   "cell_type": "code",
   "execution_count": 4,
   "metadata": {
    "scrolled": true
   },
   "outputs": [
    {
     "data": {
      "image/png": "[encoded data removed]",
      "text/plain": [
       "<Figure size 432x288 with 1 Axes>"
      ]
     },
     "metadata": {
      "needs_background": "light"
     },
     "output_type": "display_data"
    },
    {
     "data": {
      "text/plain": [
       "<Figure size 576x432 with 0 Axes>"
      ]
     },
     "metadata": {},
     "output_type": "display_data"
    }
   ],
   "source": [
    "# Create the Histogram Plot of the Total Weight of babies by using on one axis\n",
    "\n",
    "first_hist = thinkstats2.Hist(firsts.totalwgt_lb)\n",
    "other_hist = thinkstats2.Hist(others.totalwgt_lb)\n",
    "width = 0.25\n",
    "thinkplot.PrePlot(2)\n",
    "thinkplot.Hist(first_hist, align='right', width=width, color = 'blue')\n",
    "thinkplot.Hist(other_hist, align='left', width=width, color = 'green')\n",
    "thinkplot.Show(xlabel='Weight', ylabel='Frequency', xlim=[0,15])"
   ]
  },
  {
   "cell_type": "code",
   "execution_count": 5,
   "metadata": {
    "scrolled": true
   },
   "outputs": [
    {
     "name": "stdout",
     "output_type": "stream",
     "text": [
      "The mean of total weight of first babies is:: 7.2 pounds\n",
      "The mean of total weight of other babies is:: 7.33 pounds\n",
      "\n",
      "The Variance of total weight of first babies is:: 2.02 pounds\n",
      "The Variance of total weight of first babies is:: 1.94 pounds\n",
      "\n",
      "The Standard Deviation of total weight of first babies is:: 1.42 pounds\n",
      "The Standard Deviation of total weight of first babies is:: 1.39 pounds\n"
     ]
    }
   ],
   "source": [
    "# First we calculate the Mean of total weight of first babies\n",
    "meanfirst_lb = round(firsts.totalwgt_lb.mean(), 2)\n",
    "print(f'The mean of total weight of first babies is:: {meanfirst_lb} pounds')\n",
    "\n",
    "meanothers_lb = round(others.totalwgt_lb.mean(), 2)\n",
    "print(f'The mean of total weight of other babies is:: {meanothers_lb} pounds')\n",
    "\n",
    "\n",
    "# We also calculate the Variance of total weight of first babies\n",
    "varfirst_lb = round(firsts.totalwgt_lb.var(),2)\n",
    "print(f'\\nThe Variance of total weight of first babies is:: {varfirst_lb} pounds')\n",
    "varothers_lb = round(others.totalwgt_lb.var(),2)\n",
    "print(f'The Variance of total weight of first babies is:: {varothers_lb} pounds')\n",
    "\n",
    "\n",
    "\n",
    "# We also calculate the Standard Deviation of total weight of first babies\n",
    "stdfirst_lb = round(firsts.totalwgt_lb.std(),2)\n",
    "print(f'\\nThe Standard Deviation of total weight of first babies is:: {stdfirst_lb} pounds')\n",
    "stdothers_lb = round(others.totalwgt_lb.std(),2)\n",
    "print(f'The Standard Deviation of total weight of first babies is:: {stdothers_lb} pounds')"
   ]
  },
  {
   "cell_type": "markdown",
   "metadata": {},
   "source": [
    "#### Conclusion:  Based on the above Histogram, it is hard to decide if all first babies (blue bars) are lighter than others (green bars).  As we can see in above histogram, there are fewer \"First Babies\" than \"others\". so some of the apparent   diffeernces in the bistorgrams are due to sample sizes.  some bars shows first babies are lighter than others and vice versa.  So these are not the best choices for comparing two distributions.  "
   ]
  },
  {
   "cell_type": "markdown",
   "metadata": {},
   "source": [
    "## Analysis to conclude if first babies are lighter or heavier than others."
   ]
  },
  {
   "cell_type": "code",
   "execution_count": 6,
   "metadata": {
    "scrolled": false
   },
   "outputs": [
    {
     "data": {
      "image/png": "[encoded data removed]",
      "text/plain": [
       "<Figure size 432x288 with 1 Axes>"
      ]
     },
     "metadata": {
      "needs_background": "light"
     },
     "output_type": "display_data"
    },
    {
     "data": {
      "text/plain": [
       "<Figure size 576x432 with 0 Axes>"
      ]
     },
     "metadata": {},
     "output_type": "display_data"
    }
   ],
   "source": [
    "# Plotting the Pregnency Length Histograms on one axis\n",
    "\n",
    "first_hist = thinkstats2.Hist(firsts.prglngth)\n",
    "other_hist = thinkstats2.Hist(others.prglngth)\n",
    "\n",
    "width = 0.45\n",
    "thinkplot.PrePlot(2)\n",
    "thinkplot.Hist(first_hist, align='right', width=width, color='blue')\n",
    "thinkplot.Hist(other_hist, align='left', width=width, color='green')\n",
    "thinkplot.Show(xlabel='Weeks', ylabel='Frequency', xlim=[27,46])"
   ]
  },
  {
   "cell_type": "code",
   "execution_count": 7,
   "metadata": {},
   "outputs": [
    {
     "name": "stdout",
     "output_type": "stream",
     "text": [
      "The mean of first pregency length of first babies is:: 38.6 weeks\n",
      "The mean of first pregency length of other babies is:: 38.52 weeks\n",
      "\n",
      "The variance of first pregency length of first babies is:: 7.79 weeks\n",
      "The variance of first pregency length of other babies is:: 6.84 weeks\n",
      "\n",
      "The Standard Deviation of first pregency length of first babies is:: 3 weeks\n",
      "The Standard Deviation of first pregency length of other babies is:: 2.62 weeks\n"
     ]
    }
   ],
   "source": [
    "# Calculate Mean of Pregnancy length of first babies\n",
    "meanfprg = round(firsts.prglngth.mean(),2)\n",
    "mean_others_prg = round(others.prglngth.mean(),2)\n",
    "print(f'The mean of first pregency length of first babies is:: {meanfprg} weeks')\n",
    "print(f'The mean of first pregency length of other babies is:: {mean_others_prg} weeks')\n",
    "\n",
    "# Calculate Variance of Pregnancy length of first babies\n",
    "varfprg = round(firsts.prglngth.var(),2)\n",
    "var_others_prg = round(others.prglngth.var(),2)\n",
    "print(f'\\nThe variance of first pregency length of first babies is:: {varfprg} weeks')\n",
    "print(f'The variance of first pregency length of other babies is:: {var_others_prg} weeks')\n",
    "\n",
    "\n",
    "# Calculate Standard Deviation of Pregnancy length of first babies\n",
    "stdfprg = round(firsts.prglngth.std())\n",
    "std_others_prg = round(others.prglngth.std(), 2)\n",
    "print(f'\\nThe Standard Deviation of first pregency length of first babies is:: {stdfprg} weeks')\n",
    "print(f'The Standard Deviation of first pregency length of other babies is:: {std_others_prg} weeks')\n"
   ]
  },
  {
   "cell_type": "code",
   "execution_count": 8,
   "metadata": {},
   "outputs": [],
   "source": [
    "# Define function to calculate Cohen's d\n",
    "\n",
    "def CohenEffectSize(group1, group2):\n",
    "   diff = group1.mean() - group2.mean()\n",
    "   var1 = group1.var()\n",
    "   var2 = group2.var()\n",
    "   n1, n2 = len(group1), len(group2)\n",
    "   pooled_var = (n1 * var1 + n2 * var2) / (n1 + n2)\n",
    "   d = diff / math.sqrt(pooled_var)\n",
    "   return d"
   ]
  },
  {
   "cell_type": "code",
   "execution_count": 12,
   "metadata": {
    "scrolled": true
   },
   "outputs": [
    {
     "name": "stdout",
     "output_type": "stream",
     "text": [
      " The Cohen Effect Size of the total Weight of first and other babies:: -0.089\n"
     ]
    }
   ],
   "source": [
    "# Calculate Cohen Effect Size for Total Weight of First and Other babies\n",
    "\n",
    "Cohen_Effect_Size_Weight = round(CohenEffectSize(firsts.totalwgt_lb, others.totalwgt_lb),3)\n",
    "print(f' The Cohen Effect Size of the total Weight of first and other babies:: {Cohen_Effect_Size_Weight}')"
   ]
  },
  {
   "cell_type": "markdown",
   "metadata": {},
   "source": [
    "### Conclusion:  Whether first babies are lighter or heavier than others?  Based on the mean, varirance, standar devivation, Histogram and Effect size of less than 0.2, we see that  fewer \"First Babies\" than \"others\". so some of the apparent   diffeernces in the Historgrams are due to the sample sizes.  some bars shows first babies are lighter than others and vice versa.  So these are not the best choices for comparing two distributions.  "
   ]
  },
  {
   "cell_type": "code",
   "execution_count": 13,
   "metadata": {
    "scrolled": true
   },
   "outputs": [
    {
     "name": "stdout",
     "output_type": "stream",
     "text": [
      " The Cohen Effect Size of the total pregancy length of first and other babies:: 0.029\n"
     ]
    }
   ],
   "source": [
    "# Calculate Cohen Effect Size for Length of Pregnancy of First and Other babies\n",
    "\n",
    "Cohen_Effect_Size_Length = round(CohenEffectSize(firsts.prglngth, others.prglngth),3)\n",
    "print(f' The Cohen Effect Size of the total pregancy length of first and other babies:: {Cohen_Effect_Size_Length}')"
   ]
  },
  {
   "cell_type": "markdown",
   "metadata": {},
   "source": [
    "### Conclusion:  To summarize whether first baies arrive late and per the mean, varirance, standar devivation, Histogram and Effect size of less than 0.2.  As we can see in above histogram, there are fewer \"First Babies\" than \"others\". so some of the apparent   diffeernces in the bistorgrams are due to sample sizes.  some bars shows first babies are lighter than others and vice versa.  So these are not the best choices for comparing two distributions.  "
   ]
  },
  {
   "cell_type": "code",
   "execution_count": null,
   "metadata": {},
   "outputs": [],
   "source": []
  },
  {
   "cell_type": "markdown",
   "metadata": {},
   "source": [
    "## CohenEffectSize of CohenEffectSize of totalwgt_lb is -0.089 and prglngth is 0.029 and . This implies that Standard deviation of Total Weight is almost 3 times more than Standard deviation of difference of Pregnancy Lenghth."
   ]
  },
  {
   "cell_type": "markdown",
   "metadata": {},
   "source": []
  }
 ],
 "metadata": {
  "kernelspec": {
   "display_name": "Python 3",
   "language": "python",
   "name": "python3"
  },
  "language_info": {
   "codemirror_mode": {
    "name": "ipython",
    "version": 3
   },
   "file_extension": ".py",
   "mimetype": "text/x-python",
   "name": "python",
   "nbconvert_exporter": "python",
   "pygments_lexer": "ipython3",
   "version": "3.8.5"
  }
 },
 "nbformat": 4,
 "nbformat_minor": 2
}
