{
 "cells": [
  {
   "cell_type": "markdown",
   "metadata": {},
   "source": [
    "####  File:          Syed_Abidi_DSC530_week2-1.ipynb\n",
    "#### Name:       Syed Abidi\n",
    "#### Course:    DSC-530 Exploratory Data Analysis\n",
    "#### Excersie: Prepating for Exploratory data analysis."
   ]
  },
  {
   "cell_type": "code",
   "execution_count": 1,
   "metadata": {},
   "outputs": [
    {
     "name": "stdout",
     "output_type": "stream",
     "text": [
      "Hello World! I wonder why that is always the default coding text to start with\n"
     ]
    }
   ],
   "source": [
    "# Display the text “Hello World! I wonder why that is always the default coding text to start with”\n",
    "print(\"Hello World! I wonder why that is always the default coding text to start with\")"
   ]
  },
  {
   "cell_type": "code",
   "execution_count": 2,
   "metadata": {},
   "outputs": [
    {
     "name": "stdout",
     "output_type": "stream",
     "text": [
      " \n",
      "The additoin of two numbers 17 and 5.7 is: 22.7\n"
     ]
    }
   ],
   "source": [
    "# Add two numbers together\n",
    "a = 17 \n",
    "b = 5.7\n",
    "c = a + b\n",
    "print (f' \\nThe additoin of two numbers {a} and {b} is: {c}')"
   ]
  },
  {
   "cell_type": "code",
   "execution_count": 3,
   "metadata": {},
   "outputs": [
    {
     "name": "stdout",
     "output_type": "stream",
     "text": [
      " \n",
      "The difference of two numbers 17 and 5.7 is: 11.3\n"
     ]
    }
   ],
   "source": [
    "# Subtract a number from another number\n",
    "c = a-b\n",
    "print (f' \\nThe difference of two numbers {a} and {b} is: {c}')"
   ]
  },
  {
   "cell_type": "code",
   "execution_count": 4,
   "metadata": {},
   "outputs": [
    {
     "name": "stdout",
     "output_type": "stream",
     "text": [
      " \n",
      "The product of two numbers 17 and 5.7 is: 96.9\n"
     ]
    }
   ],
   "source": [
    "# Multiply two numbers\n",
    "c = a * b\n",
    "print (f' \\nThe product of two numbers {a} and {b} is: {c}')"
   ]
  },
  {
   "cell_type": "code",
   "execution_count": 5,
   "metadata": {},
   "outputs": [
    {
     "name": "stdout",
     "output_type": "stream",
     "text": [
      " My Name is Syed  Abidi\n"
     ]
    }
   ],
   "source": [
    "# Concatenate two strings together (any words)\n",
    "string1 = 'Syed'\n",
    "string2 = 'Abidi'\n",
    "print (f' My Name is {string1}  {string2}')"
   ]
  },
  {
   "cell_type": "code",
   "execution_count": 6,
   "metadata": {},
   "outputs": [
    {
     "data": {
      "text/plain": [
       "['Hello!', 2, [4, 8, 13, 19.5], ['a', 'e', 'i', 'o', 'u']]"
      ]
     },
     "execution_count": 6,
     "metadata": {},
     "output_type": "execute_result"
    }
   ],
   "source": [
    "# Create a list of 4 items (can be strings, numbers, both)\n",
    "my_list = ['Hello!', 2, [4, 8, 13, 19.5], ['a', 'e', 'i', 'o', 'u']]\n",
    "my_list"
   ]
  },
  {
   "cell_type": "code",
   "execution_count": 7,
   "metadata": {},
   "outputs": [
    {
     "data": {
      "text/plain": [
       "['Hello!', 2, [4, 8, 13, 19.5], ['a', 'e', 'i', 'o', 'u'], 'Appended_item']"
      ]
     },
     "execution_count": 7,
     "metadata": {},
     "output_type": "execute_result"
    }
   ],
   "source": [
    "# Append an item to your list (again, can be a string, number)\n",
    "my_list.append('Appended_item')\n",
    "my_list"
   ]
  },
  {
   "cell_type": "code",
   "execution_count": 8,
   "metadata": {},
   "outputs": [
    {
     "data": {
      "text/plain": [
       "('Hi!', 1, 'xyz', (5, 4, 5, 9))"
      ]
     },
     "execution_count": 8,
     "metadata": {},
     "output_type": "execute_result"
    }
   ],
   "source": [
    "# Create a tuple with 4 items (can be strings, numbers, both)\n",
    "my_tuple = ('Hi!', 1, \"xyz\", (5,4,5,9))\n",
    "my_tuple"
   ]
  },
  {
   "cell_type": "code",
   "execution_count": null,
   "metadata": {},
   "outputs": [],
   "source": []
  }
 ],
 "metadata": {
  "kernelspec": {
   "display_name": "Python 3",
   "language": "python",
   "name": "python3"
  },
  "language_info": {
   "codemirror_mode": {
    "name": "ipython",
    "version": 3
   },
   "file_extension": ".py",
   "mimetype": "text/x-python",
   "name": "python",
   "nbconvert_exporter": "python",
   "pygments_lexer": "ipython3",
   "version": "3.8.5"
  }
 },
 "nbformat": 4,
 "nbformat_minor": 4
}
